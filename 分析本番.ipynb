{
  "nbformat": 4,
  "nbformat_minor": 0,
  "metadata": {
    "colab": {
      "provenance": [],
      "toc_visible": true,
      "authorship_tag": "ABX9TyNndOWcGXn1qktFZLqqukD3",
      "include_colab_link": true
    },
    "kernelspec": {
      "name": "python3",
      "display_name": "Python 3"
    },
    "language_info": {
      "name": "python"
    }
  },
  "cells": [
    {
      "cell_type": "markdown",
      "metadata": {
        "id": "view-in-github",
        "colab_type": "text"
      },
      "source": [
        "<a href=\"https://colab.research.google.com/github/qwert-top/NMM-recognition-with-OpenPose/blob/main/%E5%88%86%E6%9E%90%E6%9C%AC%E7%95%AA.ipynb\" target=\"_parent\"><img src=\"https://colab.research.google.com/assets/colab-badge.svg\" alt=\"Open In Colab\"/></a>"
      ]
    },
    {
      "cell_type": "code",
      "execution_count": null,
      "metadata": {
        "colab": {
          "base_uri": "https://localhost:8080/"
        },
        "id": "qRWNBZ4GRpxD",
        "outputId": "ebf4b4af-dc0b-413b-e0d5-d610e40277da"
      },
      "outputs": [
        {
          "output_type": "stream",
          "name": "stdout",
          "text": [
            "Drive already mounted at /content/drive; to attempt to forcibly remount, call drive.mount(\"/content/drive\", force_remount=True).\n"
          ]
        }
      ],
      "source": [
        "from google.colab import drive\n",
        "drive.mount('/content/drive')"
      ]
    },
    {
      "cell_type": "markdown",
      "source": [
        "平叙文             |frame  |鼻先      |眉上げ   |首振り\n",
        "-------------------|------------------|---------------|--------------|----------\n",
        "私は佐藤です       | 80-120 |該当部分に|NULL|\n",
        "あなたは水泳が好きです | 100,130    |11.66,22.90|176.36,177.48|8.57\n",
        "あなたはハルミです | 145-189 |-6.02,6.32|160.55,163.13|1.11\n",
        "あなたはこれを食べます | 169-219|10.68,15.27|162.98,167.21| 1.25\n",
        "私と姉はハワイに行きます|\n",
        "私はサッカーが好きです|73-100|3.17,5.46|170.96,173.66|9.63\n",
        "私はテニスを練習します|95-120|12.75,20.72|165.80,166.99|3.83\n",
        "あなたはコーヒーを飲みます|110-126|38.65,64.06|178.61,181.25|2.89\n",
        "あなたはジュースを飲みますか|該当部分に|NULLがある"
      ],
      "metadata": {
        "id": "dYc-v_agXDVj"
      }
    },
    {
      "cell_type": "markdown",
      "source": [
        "Yes/No疑問文           | 該当部分のframe  |鼻先      |眉上げ   |首振り\n",
        "----------------|------------------|----------|---------|----------\n",
        "明日学校に行きますか？|80-121|42.71,110.94|208.48,220.18| 2.83\n",
        "あなたはアイスが好きですか？| 104-133| 31.98,71.14| 190.61,200.95|  2.13\n",
        "あなたはこれを食べますか？| 195-250| 93.85,115.62| 194.88,204.86| 1.66\n",
        "あなたはコーラを飲みますか？|122-151|該当部分に|NULL\n",
        "あなたはハルミですか？| 120-169| 74.26,116.61| 179.74,197.29|2.84\n",
        "あなたはバナナが好きですか？| 93-141| 51.50,95.75| 199.70,209.99|13.76\n",
        "あなたはバナナを食べますか？| 91-119| 68.82,90.60|196.52,202.86|3.39\n",
        "あなたは野球が好きですか？| 100-131|60.06-80.56|196.98-204.92|3.33\n",
        "これは本ですか？| 67-91|80.08-89.21|201.38-204.22|4.14\n",
        "たかしはコーヒーを飲みますか？|128-155|29.6-69.05|202.43-207.95|3.12\n",
        "VVという表現方法を知っていますか？|176-203|27.74,74.52|215.57,224.97|24.34\n",
        "私は寿司を食べますか？|85-104|85.05,89.36|203.76,207.40|3.59"
      ],
      "metadata": {
        "id": "fwKaQujqYXrP"
      }
    },
    {
      "cell_type": "markdown",
      "source": [
        "WH疑問文           | 該当部分のframe  |鼻先      |眉上げ   |首振り\n",
        "----------------|------------------|----------|---------|----------\n",
        "最寄りの駅はどこですか？|90-133|-38.33,-14.29|190.40,196.38|31.73\n",
        "あなたの出身地はどこですか？|145-223|25.39,74.29|185.76,201.72|33.63\n",
        "あなたの好きなスポーツは何ですか？|127-165|-0.55,37.81|198.74,208.88|21.87\n",
        "佐藤さんが図書館で本を読んだのはいつですか？|150-182|5.80,46.46|201.53,207.56|21.49\n",
        "昨日佐藤さんが本を読んだのはどこですか？|150-180|-33.94,-14.39|190.67,204.99|12.01\n",
        "昨日図書館で本を読んだのは誰ですか？|\n",
        "あなたの誕生日はいつですか？\n",
        "名前は何ですか？\n",
        "あの女性は誰ですか？| 129-156\n",
        "昨日図書館で佐藤さんが読んだ本は何ですか？|\n",
        "佐藤さんはどこですか？"
      ],
      "metadata": {
        "id": "b25UN3XpYpE_"
      }
    },
    {
      "cell_type": "code",
      "source": [
        "import pandas as pd\n",
        "import matplotlib.pyplot as plt\n",
        "import numpy as np\n",
        "from scipy.ndimage import median_filter\n",
        "import copy\n",
        "\n",
        "data =  [pd.read_csv('/content/drive/MyDrive/proB/あなたはバナナが好きですか？/face_out.csv')]\n",
        "\n",
        "text = ['あなたはバナナが好きですか？']\n",
        "\n",
        "category = [[0,0,0]]\n"
      ],
      "metadata": {
        "id": "_Gn5fsPjR2u-",
        "colab": {
          "base_uri": "https://localhost:8080/",
          "height": 405
        },
        "outputId": "5b1f3392-c1d9-4b34-b8c0-5bdb8c4c1b11"
      },
      "execution_count": null,
      "outputs": [
        {
          "output_type": "error",
          "ename": "FileNotFoundError",
          "evalue": "[Errno 2] No such file or directory: '/content/drive/MyDrive/proB/あなたはバナナが好きですか？/face_out.csv'",
          "traceback": [
            "\u001b[0;31m---------------------------------------------------------------------------\u001b[0m",
            "\u001b[0;31mFileNotFoundError\u001b[0m                         Traceback (most recent call last)",
            "\u001b[0;32m<ipython-input-1-cff5c7c82872>\u001b[0m in \u001b[0;36m<cell line: 7>\u001b[0;34m()\u001b[0m\n\u001b[1;32m      5\u001b[0m \u001b[0;32mimport\u001b[0m \u001b[0mcopy\u001b[0m\u001b[0;34m\u001b[0m\u001b[0;34m\u001b[0m\u001b[0m\n\u001b[1;32m      6\u001b[0m \u001b[0;34m\u001b[0m\u001b[0m\n\u001b[0;32m----> 7\u001b[0;31m \u001b[0mdata\u001b[0m \u001b[0;34m=\u001b[0m  \u001b[0;34m[\u001b[0m\u001b[0mpd\u001b[0m\u001b[0;34m.\u001b[0m\u001b[0mread_csv\u001b[0m\u001b[0;34m(\u001b[0m\u001b[0;34m'/content/drive/MyDrive/proB/あなたはバナナが好きですか？/face_out.csv'\u001b[0m\u001b[0;34m)\u001b[0m\u001b[0;34m]\u001b[0m\u001b[0;34m\u001b[0m\u001b[0;34m\u001b[0m\u001b[0m\n\u001b[0m\u001b[1;32m      8\u001b[0m \u001b[0;34m\u001b[0m\u001b[0m\n\u001b[1;32m      9\u001b[0m \u001b[0mtext\u001b[0m \u001b[0;34m=\u001b[0m \u001b[0;34m[\u001b[0m\u001b[0;34m'あなたはバナナが好きですか？'\u001b[0m\u001b[0;34m]\u001b[0m\u001b[0;34m\u001b[0m\u001b[0;34m\u001b[0m\u001b[0m\n",
            "\u001b[0;32m/usr/local/lib/python3.10/dist-packages/pandas/util/_decorators.py\u001b[0m in \u001b[0;36mwrapper\u001b[0;34m(*args, **kwargs)\u001b[0m\n\u001b[1;32m    209\u001b[0m                 \u001b[0;32melse\u001b[0m\u001b[0;34m:\u001b[0m\u001b[0;34m\u001b[0m\u001b[0;34m\u001b[0m\u001b[0m\n\u001b[1;32m    210\u001b[0m                     \u001b[0mkwargs\u001b[0m\u001b[0;34m[\u001b[0m\u001b[0mnew_arg_name\u001b[0m\u001b[0;34m]\u001b[0m \u001b[0;34m=\u001b[0m \u001b[0mnew_arg_value\u001b[0m\u001b[0;34m\u001b[0m\u001b[0;34m\u001b[0m\u001b[0m\n\u001b[0;32m--> 211\u001b[0;31m             \u001b[0;32mreturn\u001b[0m \u001b[0mfunc\u001b[0m\u001b[0;34m(\u001b[0m\u001b[0;34m*\u001b[0m\u001b[0margs\u001b[0m\u001b[0;34m,\u001b[0m \u001b[0;34m**\u001b[0m\u001b[0mkwargs\u001b[0m\u001b[0;34m)\u001b[0m\u001b[0;34m\u001b[0m\u001b[0;34m\u001b[0m\u001b[0m\n\u001b[0m\u001b[1;32m    212\u001b[0m \u001b[0;34m\u001b[0m\u001b[0m\n\u001b[1;32m    213\u001b[0m         \u001b[0;32mreturn\u001b[0m \u001b[0mcast\u001b[0m\u001b[0;34m(\u001b[0m\u001b[0mF\u001b[0m\u001b[0;34m,\u001b[0m \u001b[0mwrapper\u001b[0m\u001b[0;34m)\u001b[0m\u001b[0;34m\u001b[0m\u001b[0;34m\u001b[0m\u001b[0m\n",
            "\u001b[0;32m/usr/local/lib/python3.10/dist-packages/pandas/util/_decorators.py\u001b[0m in \u001b[0;36mwrapper\u001b[0;34m(*args, **kwargs)\u001b[0m\n\u001b[1;32m    329\u001b[0m                     \u001b[0mstacklevel\u001b[0m\u001b[0;34m=\u001b[0m\u001b[0mfind_stack_level\u001b[0m\u001b[0;34m(\u001b[0m\u001b[0;34m)\u001b[0m\u001b[0;34m,\u001b[0m\u001b[0;34m\u001b[0m\u001b[0;34m\u001b[0m\u001b[0m\n\u001b[1;32m    330\u001b[0m                 )\n\u001b[0;32m--> 331\u001b[0;31m             \u001b[0;32mreturn\u001b[0m \u001b[0mfunc\u001b[0m\u001b[0;34m(\u001b[0m\u001b[0;34m*\u001b[0m\u001b[0margs\u001b[0m\u001b[0;34m,\u001b[0m \u001b[0;34m**\u001b[0m\u001b[0mkwargs\u001b[0m\u001b[0;34m)\u001b[0m\u001b[0;34m\u001b[0m\u001b[0;34m\u001b[0m\u001b[0m\n\u001b[0m\u001b[1;32m    332\u001b[0m \u001b[0;34m\u001b[0m\u001b[0m\n\u001b[1;32m    333\u001b[0m         \u001b[0;31m# error: \"Callable[[VarArg(Any), KwArg(Any)], Any]\" has no\u001b[0m\u001b[0;34m\u001b[0m\u001b[0;34m\u001b[0m\u001b[0m\n",
            "\u001b[0;32m/usr/local/lib/python3.10/dist-packages/pandas/io/parsers/readers.py\u001b[0m in \u001b[0;36mread_csv\u001b[0;34m(filepath_or_buffer, sep, delimiter, header, names, index_col, usecols, squeeze, prefix, mangle_dupe_cols, dtype, engine, converters, true_values, false_values, skipinitialspace, skiprows, skipfooter, nrows, na_values, keep_default_na, na_filter, verbose, skip_blank_lines, parse_dates, infer_datetime_format, keep_date_col, date_parser, dayfirst, cache_dates, iterator, chunksize, compression, thousands, decimal, lineterminator, quotechar, quoting, doublequote, escapechar, comment, encoding, encoding_errors, dialect, error_bad_lines, warn_bad_lines, on_bad_lines, delim_whitespace, low_memory, memory_map, float_precision, storage_options)\u001b[0m\n\u001b[1;32m    948\u001b[0m     \u001b[0mkwds\u001b[0m\u001b[0;34m.\u001b[0m\u001b[0mupdate\u001b[0m\u001b[0;34m(\u001b[0m\u001b[0mkwds_defaults\u001b[0m\u001b[0;34m)\u001b[0m\u001b[0;34m\u001b[0m\u001b[0;34m\u001b[0m\u001b[0m\n\u001b[1;32m    949\u001b[0m \u001b[0;34m\u001b[0m\u001b[0m\n\u001b[0;32m--> 950\u001b[0;31m     \u001b[0;32mreturn\u001b[0m \u001b[0m_read\u001b[0m\u001b[0;34m(\u001b[0m\u001b[0mfilepath_or_buffer\u001b[0m\u001b[0;34m,\u001b[0m \u001b[0mkwds\u001b[0m\u001b[0;34m)\u001b[0m\u001b[0;34m\u001b[0m\u001b[0;34m\u001b[0m\u001b[0m\n\u001b[0m\u001b[1;32m    951\u001b[0m \u001b[0;34m\u001b[0m\u001b[0m\n\u001b[1;32m    952\u001b[0m \u001b[0;34m\u001b[0m\u001b[0m\n",
            "\u001b[0;32m/usr/local/lib/python3.10/dist-packages/pandas/io/parsers/readers.py\u001b[0m in \u001b[0;36m_read\u001b[0;34m(filepath_or_buffer, kwds)\u001b[0m\n\u001b[1;32m    603\u001b[0m \u001b[0;34m\u001b[0m\u001b[0m\n\u001b[1;32m    604\u001b[0m     \u001b[0;31m# Create the parser.\u001b[0m\u001b[0;34m\u001b[0m\u001b[0;34m\u001b[0m\u001b[0m\n\u001b[0;32m--> 605\u001b[0;31m     \u001b[0mparser\u001b[0m \u001b[0;34m=\u001b[0m \u001b[0mTextFileReader\u001b[0m\u001b[0;34m(\u001b[0m\u001b[0mfilepath_or_buffer\u001b[0m\u001b[0;34m,\u001b[0m \u001b[0;34m**\u001b[0m\u001b[0mkwds\u001b[0m\u001b[0;34m)\u001b[0m\u001b[0;34m\u001b[0m\u001b[0;34m\u001b[0m\u001b[0m\n\u001b[0m\u001b[1;32m    606\u001b[0m \u001b[0;34m\u001b[0m\u001b[0m\n\u001b[1;32m    607\u001b[0m     \u001b[0;32mif\u001b[0m \u001b[0mchunksize\u001b[0m \u001b[0;32mor\u001b[0m \u001b[0miterator\u001b[0m\u001b[0;34m:\u001b[0m\u001b[0;34m\u001b[0m\u001b[0;34m\u001b[0m\u001b[0m\n",
            "\u001b[0;32m/usr/local/lib/python3.10/dist-packages/pandas/io/parsers/readers.py\u001b[0m in \u001b[0;36m__init__\u001b[0;34m(self, f, engine, **kwds)\u001b[0m\n\u001b[1;32m   1440\u001b[0m \u001b[0;34m\u001b[0m\u001b[0m\n\u001b[1;32m   1441\u001b[0m         \u001b[0mself\u001b[0m\u001b[0;34m.\u001b[0m\u001b[0mhandles\u001b[0m\u001b[0;34m:\u001b[0m \u001b[0mIOHandles\u001b[0m \u001b[0;34m|\u001b[0m \u001b[0;32mNone\u001b[0m \u001b[0;34m=\u001b[0m \u001b[0;32mNone\u001b[0m\u001b[0;34m\u001b[0m\u001b[0;34m\u001b[0m\u001b[0m\n\u001b[0;32m-> 1442\u001b[0;31m         \u001b[0mself\u001b[0m\u001b[0;34m.\u001b[0m\u001b[0m_engine\u001b[0m \u001b[0;34m=\u001b[0m \u001b[0mself\u001b[0m\u001b[0;34m.\u001b[0m\u001b[0m_make_engine\u001b[0m\u001b[0;34m(\u001b[0m\u001b[0mf\u001b[0m\u001b[0;34m,\u001b[0m \u001b[0mself\u001b[0m\u001b[0;34m.\u001b[0m\u001b[0mengine\u001b[0m\u001b[0;34m)\u001b[0m\u001b[0;34m\u001b[0m\u001b[0;34m\u001b[0m\u001b[0m\n\u001b[0m\u001b[1;32m   1443\u001b[0m \u001b[0;34m\u001b[0m\u001b[0m\n\u001b[1;32m   1444\u001b[0m     \u001b[0;32mdef\u001b[0m \u001b[0mclose\u001b[0m\u001b[0;34m(\u001b[0m\u001b[0mself\u001b[0m\u001b[0;34m)\u001b[0m \u001b[0;34m->\u001b[0m \u001b[0;32mNone\u001b[0m\u001b[0;34m:\u001b[0m\u001b[0;34m\u001b[0m\u001b[0;34m\u001b[0m\u001b[0m\n",
            "\u001b[0;32m/usr/local/lib/python3.10/dist-packages/pandas/io/parsers/readers.py\u001b[0m in \u001b[0;36m_make_engine\u001b[0;34m(self, f, engine)\u001b[0m\n\u001b[1;32m   1733\u001b[0m                 \u001b[0;32mif\u001b[0m \u001b[0;34m\"b\"\u001b[0m \u001b[0;32mnot\u001b[0m \u001b[0;32min\u001b[0m \u001b[0mmode\u001b[0m\u001b[0;34m:\u001b[0m\u001b[0;34m\u001b[0m\u001b[0;34m\u001b[0m\u001b[0m\n\u001b[1;32m   1734\u001b[0m                     \u001b[0mmode\u001b[0m \u001b[0;34m+=\u001b[0m \u001b[0;34m\"b\"\u001b[0m\u001b[0;34m\u001b[0m\u001b[0;34m\u001b[0m\u001b[0m\n\u001b[0;32m-> 1735\u001b[0;31m             self.handles = get_handle(\n\u001b[0m\u001b[1;32m   1736\u001b[0m                 \u001b[0mf\u001b[0m\u001b[0;34m,\u001b[0m\u001b[0;34m\u001b[0m\u001b[0;34m\u001b[0m\u001b[0m\n\u001b[1;32m   1737\u001b[0m                 \u001b[0mmode\u001b[0m\u001b[0;34m,\u001b[0m\u001b[0;34m\u001b[0m\u001b[0;34m\u001b[0m\u001b[0m\n",
            "\u001b[0;32m/usr/local/lib/python3.10/dist-packages/pandas/io/common.py\u001b[0m in \u001b[0;36mget_handle\u001b[0;34m(path_or_buf, mode, encoding, compression, memory_map, is_text, errors, storage_options)\u001b[0m\n\u001b[1;32m    854\u001b[0m         \u001b[0;32mif\u001b[0m \u001b[0mioargs\u001b[0m\u001b[0;34m.\u001b[0m\u001b[0mencoding\u001b[0m \u001b[0;32mand\u001b[0m \u001b[0;34m\"b\"\u001b[0m \u001b[0;32mnot\u001b[0m \u001b[0;32min\u001b[0m \u001b[0mioargs\u001b[0m\u001b[0;34m.\u001b[0m\u001b[0mmode\u001b[0m\u001b[0;34m:\u001b[0m\u001b[0;34m\u001b[0m\u001b[0;34m\u001b[0m\u001b[0m\n\u001b[1;32m    855\u001b[0m             \u001b[0;31m# Encoding\u001b[0m\u001b[0;34m\u001b[0m\u001b[0;34m\u001b[0m\u001b[0m\n\u001b[0;32m--> 856\u001b[0;31m             handle = open(\n\u001b[0m\u001b[1;32m    857\u001b[0m                 \u001b[0mhandle\u001b[0m\u001b[0;34m,\u001b[0m\u001b[0;34m\u001b[0m\u001b[0;34m\u001b[0m\u001b[0m\n\u001b[1;32m    858\u001b[0m                 \u001b[0mioargs\u001b[0m\u001b[0;34m.\u001b[0m\u001b[0mmode\u001b[0m\u001b[0;34m,\u001b[0m\u001b[0;34m\u001b[0m\u001b[0;34m\u001b[0m\u001b[0m\n",
            "\u001b[0;31mFileNotFoundError\u001b[0m: [Errno 2] No such file or directory: '/content/drive/MyDrive/proB/あなたはバナナが好きですか？/face_out.csv'"
          ]
        }
      ]
    },
    {
      "cell_type": "code",
      "source": [
        "#位置補正\n",
        "corrected_data = copy.deepcopy(data)\n",
        "for n in range(len(data)):\n",
        "  origin_x = corrected_data[n]['30_x'][0]\n",
        "  origin_y = corrected_data[n]['30_y'][0]\n",
        "  for part in range(70):\n",
        "    col_x = str(part) + '_x'\n",
        "    col_y = str(part) + '_y'\n",
        "    for frame in range(len(data[n])):\n",
        "      corrected_data[n][col_x][frame] = corrected_data[n][col_x][frame] - origin_x\n",
        "      corrected_data[n][col_y][frame] = corrected_data[n][col_y][frame] - origin_y"
      ],
      "metadata": {
        "id": "IYpslSHASTYO"
      },
      "execution_count": null,
      "outputs": []
    },
    {
      "cell_type": "code",
      "source": [
        "#スケール変換\n",
        "converted_data = copy.deepcopy(corrected_data)\n",
        "for n in range(len(data)):\n",
        "  original_scale_x = converted_data[n]['27_x'][0] - converted_data[n]['0_x'][0]\n",
        "  scale_conversion_x = 140 / original_scale_x #顔の横幅を140に固定\n",
        "  original_scale_y = converted_data[n]['8_y'][0]- converted_data[n]['27_y'][0]\n",
        "  scale_conversion_y =  210 / original_scale_y #顔の縦幅を210に固定\n",
        "\n",
        "  for part in range(70):\n",
        "    col_x = str(part) + '_x'\n",
        "    col_y = str(part) + '_y'\n",
        "    for frame in range(len(data[n])):\n",
        "      converted_data[n][col_x][frame] = converted_data[n][col_x][frame] * scale_conversion_x\n",
        "      converted_data[n][col_y][frame] = converted_data[n][col_y][frame] * scale_conversion_y"
      ],
      "metadata": {
        "id": "TbeNfQi_SVe4"
      },
      "execution_count": null,
      "outputs": []
    },
    {
      "cell_type": "code",
      "source": [
        "start = 150\n",
        "end = 180\n",
        "print(str(start)+\"-\"+str(end))"
      ],
      "metadata": {
        "id": "dTVxNsECVmT6"
      },
      "execution_count": null,
      "outputs": []
    },
    {
      "cell_type": "code",
      "source": [
        "#眉毛と黒目の距離、最初との差\n",
        "#眉上げが検出できるはず\n",
        "\n",
        "def eyeblow_detector(data,th,num,start=None,end=None):\n",
        "  fig, ax = plt.subplots()\n",
        "  for n in range(len(data)):\n",
        "    #start = data[n]['60_y'][0] - data[n]['24_y'][0]\n",
        "    diff = data[n]['60_y'] - data[n]['24_y']\n",
        "    result = diff\n",
        "    ax.plot(result)\n",
        "    if start != None:\n",
        "      plt.xlim(start,end)\n",
        "\n",
        "    check = (result > th)\n",
        "    if check.sum() > num:\n",
        "      print(check.sum())\n",
        "      print(text[n] , \"has 眉上げ\")\n",
        "      category[n][1] = 1\n",
        "  plt.show()\n",
        "\n",
        "eyeblow_detector(converted_data, 20, 30,150,180)\n",
        "eyeblow_detector(converted_data, 20, 30)"
      ],
      "metadata": {
        "id": "_d7SjJppmYp9"
      },
      "execution_count": null,
      "outputs": []
    },
    {
      "cell_type": "code",
      "source": [
        "#鼻先のy座標、最初の座標との差\n",
        "#顎引きが検出できるはず\n",
        "\n",
        "def chin_detector(data,th,num,start=None,end=None): #th=顎引き検出のしきい値\n",
        "  fig, ax = plt.subplots()\n",
        "  ax.invert_yaxis()\n",
        "  for n in range(len(data)):\n",
        "    #start = data[n]['30_y'][0]\n",
        "    result = data[n]['30_y']\n",
        "    ax.plot(result)\n",
        "    if start != None:\n",
        "      plt.xlim(start, end)\n",
        "    check = (result > th)\n",
        "    if check.sum() > num:\n",
        "      print(check.sum())\n",
        "      print(text[n] , \"has 顎引き\")\n",
        "      category[n][0] = 1\n",
        "  plt.show()\n",
        "\n",
        "chin_detector(converted_data,80, 1, 73,100)\n",
        "chin_detector(converted_data,80, 1)"
      ],
      "metadata": {
        "id": "UlzsYUYRR8rd"
      },
      "execution_count": null,
      "outputs": []
    },
    {
      "cell_type": "code",
      "source": [
        "#鼻先のy座標、最初の座標との差\n",
        "#顎引きが検出できるはず\n",
        "\n",
        "def chin_detector_median(data,th,num): #th=顎引き検出のしきい値\n",
        "  fig, ax = plt.subplots()\n",
        "  ax.invert_yaxis()\n",
        "  for n in range(len(data)):\n",
        "    #start = data[n]['30_y'][0]\n",
        "    result = data[n]['30_y']\n",
        "    ax.plot(median_filter(result, size=5, cval=0, mode='constant'))\n",
        "    if start != None:\n",
        "      plt.xlim(start, end)\n",
        "    max_y = -10000\n",
        "    min_y = 10000\n",
        "    for i, (x, y) in enumerate(zip(range(len(median_filter(result, size=5, cval=0, mode='constant'))),median_filter(result, size=5, cval=0, mode='constant'))):\n",
        "      if x >= start and x <= end:\n",
        "        if y > max_y:\n",
        "          max_x = x\n",
        "          max_y = y\n",
        "        if y < min_y:\n",
        "          min_x = x\n",
        "          min_y = y\n",
        "    ax.annotate(f'Max: {max_y:.2f}', xy=(max_x, max_y), textcoords=\"offset points\", xytext=(0, 5), ha='center')\n",
        "    ax.annotate(f'Min: {min_y:.2f}', xy=(min_x, min_y), textcoords=\"offset points\", xytext=(0, -15), ha='center')\n",
        "    print(str(f'{min_y:.2f}')+','+str(f'{max_y:.2f}'))\n",
        "\n",
        "    check = (result > th)\n",
        "    if check.sum() > num:\n",
        "      print(check.sum())\n",
        "      print(text[n] , \"has 顎引き\")\n",
        "      category[n][0] = 1\n",
        "  plt.show()\n",
        "\n",
        "chin_detector_median(converted_data,80, 1)"
      ],
      "metadata": {
        "id": "Ner4zMVZFLRO"
      },
      "execution_count": null,
      "outputs": []
    },
    {
      "cell_type": "code",
      "source": [
        "#眉毛と黒目の距離、最初との差\n",
        "#眉上げが検出できるはず\n",
        "\n",
        "def eyeblow_detector_median(data,th,num):\n",
        "  fig, ax = plt.subplots()\n",
        "  for n in range(len(data)):\n",
        "    #start = data[n]['60_y'][0] - data[n]['24_y'][0]\n",
        "    diff = data[n]['60_y'] - data[n]['24_y']\n",
        "    result = diff\n",
        "    ax.plot(median_filter(result, size=5, cval=0, mode='constant'))\n",
        "    if start != None:\n",
        "      plt.xlim(start,end)\n",
        "    max_y = -10000\n",
        "    min_y = 10000\n",
        "    for i, (x, y) in enumerate(zip(range(len(median_filter(result, size=5, cval=0, mode='constant'))),median_filter(result, size=5, cval=0, mode='constant'))):\n",
        "      if x >= start and x <= end:\n",
        "        if y > max_y:\n",
        "          max_x = x\n",
        "          max_y = y\n",
        "        if y < min_y:\n",
        "          min_x = x\n",
        "          min_y = y\n",
        "    ax.annotate(f'Max: {max_y:.2f}', xy=(max_x, max_y), textcoords=\"offset points\", xytext=(0, 5), ha='center')\n",
        "    ax.annotate(f'Min: {min_y:.2f}', xy=(min_x, min_y), textcoords=\"offset points\", xytext=(0, -15), ha='center')\n",
        "    print(str(f'{min_y:.2f}')+','+str(f'{max_y:.2f}'))\n",
        "\n",
        "\n",
        "    check = (result > th)\n",
        "    if check.sum() > num:\n",
        "      print(check.sum())\n",
        "      print(text[n] , \"has 眉上げ\")\n",
        "      category[n][1] = 1\n",
        "  plt.show()\n",
        "\n",
        "eyeblow_detector_median(converted_data, 20, 30)"
      ],
      "metadata": {
        "id": "49Rz2wiaZSox"
      },
      "execution_count": null,
      "outputs": []
    },
    {
      "cell_type": "code",
      "source": [
        "#首振りを検出するために、一つ前のフレームとの座標の差を求める\n",
        "#絶対値\n",
        "def frame_diff_abs(data):\n",
        "  ans = []\n",
        "  for frame in range(1, len(data)):\n",
        "    ans.append(abs(data['30_x'][frame] - data['30_x'][frame-1]))\n",
        "  return ans\n",
        "\n",
        "def filtered_head_shaking_detector(data, th, num):\n",
        "  fig, ax = plt.subplots()\n",
        "  for n in range(len(data)):\n",
        "    ans = frame_diff_abs(data[n])\n",
        "    ax.plot(median_filter(ans, size=5, cval=0, mode='constant'))\n",
        "    if start != None:\n",
        "      plt.xlim(start,end)\n",
        "    max_y = -10000\n",
        "    min_y = 10000\n",
        "    for i, (x, y) in enumerate(zip(range(len(median_filter(ans, size=5, cval=0, mode='constant'))),median_filter(ans, size=5, cval=0, mode='constant'))):\n",
        "      if x >= start and x <= end:\n",
        "        if y > max_y:\n",
        "          max_x = x\n",
        "          max_y = y\n",
        "        if y < min_y:\n",
        "          min_x = x\n",
        "          min_y = y\n",
        "    ax.annotate(f'Max: {max_y:.2f}', xy=(max_x, max_y), textcoords=\"offset points\", xytext=(0, 5), ha='center')\n",
        "    ax.annotate(f'Min: {min_y:.2f}', xy=(min_x, min_y), textcoords=\"offset points\", xytext=(0, -15), ha='center')\n",
        "    print(f'{min_y:.2f}',f'{max_y:.2f}')\n",
        "\n",
        "    check = sum([a > th for a in ans])\n",
        "    if check > num:\n",
        "      print(check)\n",
        "      print(text[n] , \"has 首振り\")\n",
        "      category[n][2] = 1\n",
        "  plt.show()\n",
        "\n",
        "filtered_head_shaking_detector(converted_data, 20, 35)"
      ],
      "metadata": {
        "id": "P3WMCOMAZa3H"
      },
      "execution_count": null,
      "outputs": []
    },
    {
      "cell_type": "code",
      "source": [
        "\n",
        "#右目と左目をつなぐ線と直交して27を通る線より30が右にあるか左にあるか\n",
        "#39と42\n",
        "\n",
        "def line_equation(data):\n",
        "    fig, ax = plt.subplots()\n",
        "    ax.invert_yaxis()\n",
        "    for n in range(len(data)):\n",
        "      x1 = copy.deepcopy(data[n]['39_x'])\n",
        "      x2 = copy.deepcopy(data[n]['42_x'])\n",
        "      y1 = copy.deepcopy(data[n]['39_y'])\n",
        "      y2 = copy.deepcopy(data[n]['42_y'])\n",
        "\n",
        "      m1 = (y2-y1)/(x2-x1)\n",
        "      center_x = copy.deepcopy(data[n]['0_x'])\n",
        "\n",
        "      for frame in range(len(data[n])):\n",
        "        if m1[frame] == 0:\n",
        "          center_x[frame] = data[n]['27_x'][frame]\n",
        "        else:\n",
        "          slope = -1 / m1[frame]\n",
        "          x = data[n]['27_x'][frame]\n",
        "          y = data[n]['27_y'][frame]\n",
        "          intercept = y - slope * x\n",
        "          center_x[frame] = (data[n]['30_y'][frame] - intercept)/slope\n",
        "      ax.plot(data[n]['30_x']-center_x, data[n]['Unnamed: 0'])\n",
        "    plt.show()\n",
        "\n",
        "line_equation(converted_data)\n",
        "\n"
      ],
      "metadata": {
        "id": "vx2AG5RYklBR"
      },
      "execution_count": null,
      "outputs": []
    },
    {
      "cell_type": "code",
      "source": [
        "#首振りを検出するために、一つ前のフレームとの座標の差を求める\n",
        "#絶対値\n",
        "def frame_diff_abs(data):\n",
        "  ans = []\n",
        "  for frame in range(1, len(data)):\n",
        "    ans.append(abs(data['30_x'][frame] - data['30_x'][frame-1]))\n",
        "  return ans\n",
        "\n",
        "def abs_head_shaking_detector(data, th, num):\n",
        "  fig, ax = plt.subplots()\n",
        "  for n in range(len(data)):\n",
        "    ans = frame_diff_abs(data[n])\n",
        "    ax.plot(ans)\n",
        "    check = sum([a > th for a in ans])\n",
        "    if check > num:\n",
        "      print(check)\n",
        "      print(text[n] , \"has 首振り\")\n",
        "      category[n][2] = 1\n",
        "  plt.show()\n",
        "\n",
        "abs_head_shaking_detector(converted_data, 20, 35)"
      ],
      "metadata": {
        "id": "PoTKNur2-V4j"
      },
      "execution_count": null,
      "outputs": []
    },
    {
      "cell_type": "code",
      "source": [
        "\n",
        "#右目と左目をつなぐ線と直交して27を通る線より30が右にあるか左にあるか\n",
        "#39と42\n",
        "\n",
        "def line_equation(data):\n",
        "    fig, ax = plt.subplots()\n",
        "    ax.invert_yaxis()\n",
        "    for n in range(len(data)):\n",
        "      x1 = copy.deepcopy(data[n]['39_x'])\n",
        "      x2 = copy.deepcopy(data[n]['42_x'])\n",
        "      y1 = copy.deepcopy(data[n]['39_y'])\n",
        "      y2 = copy.deepcopy(data[n]['42_y'])\n",
        "\n",
        "      m1 = (y2-y1)/(x2-x1)\n",
        "      center_x = copy.deepcopy(data[n]['0_x'])\n",
        "      which = [0]*len(data[n])\n",
        "\n",
        "      for frame in range(len(data[n])):\n",
        "        if m1[frame] == 0:\n",
        "          center_x[frame] = data[n]['27_x'][frame]\n",
        "        else:\n",
        "          slope = -1 / m1[frame]\n",
        "          x = data[n]['27_x'][frame]\n",
        "          y = data[n]['27_y'][frame]\n",
        "          intercept = y - slope * x\n",
        "          center_x[frame] = (data[n]['30_y'][frame] - intercept)/slope\n",
        "          if data[n]['30_x'][frame]-center_x[frame] > 0:\n",
        "            which[frame] = 5\n",
        "          else:\n",
        "            which[frame] = -5\n",
        "\n",
        "      ax.plot(data[n]['30_x']-center_x)\n",
        "      ax.plot(which)\n",
        "    plt.show()\n",
        "\n",
        "line_equation(converted_data)\n",
        "\n"
      ],
      "metadata": {
        "id": "Cl7ha_ZHAN7r"
      },
      "execution_count": null,
      "outputs": []
    },
    {
      "cell_type": "code",
      "source": [
        "\n",
        "from scipy.signal import butter, filtfilt\n",
        "\n",
        "fig, ax = plt.subplots()\n",
        "\n",
        "# ローパスフィルタ\n",
        "def butter_lowpass_filter(data, cutoff_frequency, sampling_rate, order=4):\n",
        "    nyquist = 0.5 * sampling_rate\n",
        "    normal_cutoff = cutoff_frequency / nyquist\n",
        "    b, a = butter(order, normal_cutoff, btype='low', analog=False)\n",
        "    y = filtfilt(b, a, data)\n",
        "    return y\n",
        "\n",
        "for n in range(len(converted_data)):\n",
        "   ans = frame_diff_abs(converted_data[n])\n",
        "\n",
        "# フィルタリング\n",
        "cutoff_frequency = 5  # ローパスフィルタのカットオフ周波数\n",
        "filtered_data = butter_lowpass_filter(ans, cutoff_frequency, 1 / 0.01)\n",
        "\n",
        "# 微分\n",
        "derivative_data = np.gradient(filtered_data)\n",
        "\n",
        "# 閾値の設定\n",
        "threshold = 0.5\n",
        "\n",
        "# 小刻みな首振りの検出\n",
        "swings = np.where(np.abs(derivative_data) > threshold)[0]\n",
        "\n",
        "# 結果のプロット\n",
        "plt.plot(ans, label='Original Data')\n",
        "plt.plot(filtered_data, label='Filtered Data')\n",
        "plt.plot(derivative_data, label='Derivative')\n",
        "plt.legend()\n",
        "plt.show()\n"
      ],
      "metadata": {
        "id": "IXL5lQFlDoZ5"
      },
      "execution_count": null,
      "outputs": []
    },
    {
      "cell_type": "code",
      "source": [
        "\n",
        "def butter_highpass_filter(data, cutoff_frequency, sampling_rate, order=4):\n",
        "    nyquist = 0.5 * sampling_rate\n",
        "    high = cutoff_frequency / nyquist\n",
        "    b, a = butter(order, high, btype='high', analog=False)\n",
        "    y = filtfilt(b, a, data)\n",
        "    return y\n",
        "\n",
        "\n",
        "# ハイパスフィルタ\n",
        "cutoff_frequency = 2  # ハイパスフィルタのカットオフ周波数\n",
        "sampling_rate = 1 / 0.01  # サンプリングレート\n",
        "order = 4  # 次数\n",
        "\n",
        "filtered_data = butter_highpass_filter(converted_data[0]['30_x'], cutoff_frequency, sampling_rate)\n",
        "# 微分\n",
        "derivative_data = np.gradient(filtered_data)\n",
        "\n",
        "# 閾値の設定\n",
        "threshold = 0.5\n",
        "# 結果のプロット\n",
        "plt.plot(converted_data[0]['30_x'], label='Original Data')\n",
        "plt.plot(filtered_data, label='Filtered Data (Highpass)')\n",
        "plt.plot(derivative_data, label='Derivative')\n",
        "plt.legend()\n",
        "plt.show()\n"
      ],
      "metadata": {
        "id": "VwaAkiubN42X"
      },
      "execution_count": null,
      "outputs": []
    },
    {
      "cell_type": "code",
      "source": [
        "fig, ax = plt.subplots()\n",
        "for n in range(len(converted_data)):\n",
        "   ans = frame_diff_abs(converted_data[n])\n",
        "   ax.plot(ans)\n",
        "plt.show()\n"
      ],
      "metadata": {
        "id": "t_IJ1JmrWz6K"
      },
      "execution_count": null,
      "outputs": []
    },
    {
      "cell_type": "code",
      "source": [],
      "metadata": {
        "id": "SIdvw7vBXXyO"
      },
      "execution_count": null,
      "outputs": []
    }
  ]
}