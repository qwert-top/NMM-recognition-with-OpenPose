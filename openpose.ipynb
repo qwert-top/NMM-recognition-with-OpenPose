{
  "cells": [
    {
      "cell_type": "markdown",
      "metadata": {
        "id": "view-in-github",
        "colab_type": "text"
      },
      "source": [
        "<a href=\"https://colab.research.google.com/github/qwert-top/NMM-recognition-with-OpenPose/blob/main/openpose.ipynb\" target=\"_parent\"><img src=\"https://colab.research.google.com/assets/colab-badge.svg\" alt=\"Open In Colab\"/></a>"
      ]
    },
    {
      "cell_type": "markdown",
      "metadata": {
        "id": "X38L6tanrnrB"
      },
      "source": [
        "# Pose Detection with OpenPose\n",
        "\n",
        "This notebook uses an open source project [CMU-Perceptual-Computing-Lab/openpose](https://github.com/CMU-Perceptual-Computing-Lab/openpose.git) to detect/track multi person poses on a given video.\n",
        "\n",
        "Please read the [OpenPose license](https://github.com/CMU-Perceptual-Computing-Lab/openpose/blob/master/LICENSE) before running this script.\n"
      ]
    },
    {
      "cell_type": "code",
      "execution_count": null,
      "metadata": {
        "id": "rpFwfTSxciYc"
      },
      "outputs": [],
      "source": [
        "from google.colab import drive\n",
        "drive.mount('/content/drive')"
      ]
    },
    {
      "cell_type": "code",
      "execution_count": null,
      "metadata": {
        "id": "KA03We8itP4H"
      },
      "outputs": [],
      "source": [
        "import os\n",
        "OPENPOSE_PATH=\"./openpose/\"\n",
        "HOME_PATH='./'"
      ]
    },
    {
      "cell_type": "code",
      "execution_count": null,
      "metadata": {
        "id": "ycAbXLI5TdXL"
      },
      "outputs": [],
      "source": [
        "!echo $HOME_PATH"
      ]
    },
    {
      "cell_type": "markdown",
      "metadata": {
        "id": "bbYVjlJikDEW"
      },
      "source": [
        "##Install OpenPose"
      ]
    },
    {
      "cell_type": "code",
      "execution_count": null,
      "metadata": {
        "id": "FOdkDhb6ga6N"
      },
      "outputs": [],
      "source": [
        "#@title\n",
        "!pip install ffmpeg-python\n",
        "from os.path import exists, join, basename, splitext\n",
        "\n",
        "def show_local_mp4_video(file_name, width=640, height=480):\n",
        "  import io\n",
        "  import base64\n",
        "  from IPython.display import HTML\n",
        "  video_encoded = base64.b64encode(io.open(file_name, 'rb').read())\n",
        "  return HTML(data='''<video width=\"{0}\" height=\"{1}\" alt=\"test\" controls>\n",
        "                        <source src=\"data:video/mp4;base64,{2}\" type=\"video/mp4\" />\n",
        "                      </video>'''.format(width, height, video_encoded.decode('ascii')))\n",
        "\n",
        "\n",
        "# see: https://github.com/CMU-Perceptual-Computing-Lab/openpose/issues/949\n",
        "# install new CMake becaue of CUDA10\n",
        "!wget -q https://cmake.org/files/v3.17/cmake-3.17.2-Linux-x86_64.tar.gz\n",
        "!tar xfz cmake-3.17.2-Linux-x86_64.tar.gz --strip-components=1 -C /usr/local\n",
        "\n",
        "# install system dependencies\n",
        "!apt-get -qq install -y libatlas-base-dev libprotobuf-dev libleveldb-dev libsnappy-dev libhdf5-serial-dev protobuf-compiler libgflags-dev libgoogle-glog-dev liblmdb-dev opencl-headers ocl-icd-opencl-dev libviennacl-dev\n",
        "\n",
        "git_repo_url = 'https://github.com/CMU-Perceptual-Computing-Lab/openpose.git'\n",
        "project_name = splitext(basename(git_repo_url))[0]\n",
        "!rm -rf openpose\n",
        "# clone openpose\n",
        "!git clone -q --depth 1 $git_repo_url\n",
        "# --recursive necessary in the line below, as otherwise you can (sometimes) get \"lpthreads\" errors in cmake (\"undefined reference to `pthread_create'\" etc). See, for example, https://github.com/facebookarchive/caffe2/issues/1234\n",
        "!sed -i 's/execute_process(COMMAND git checkout --recursive master WORKING_DIRECTORY ${CMAKE_SOURCE_DIR}\\/3rdparty\\/caffe)/execute_process(COMMAND git checkout f019d0dfe86f49d1140961f8c7dec22130c83154 WORKING_DIRECTORY ${CMAKE_SOURCE_DIR}\\/3rdparty\\/caffe)/g' openpose/CMakeLists.txt\n",
        "!cd openpose && git submodule update --init --recursive --remote"
      ]
    },
    {
      "cell_type": "markdown",
      "metadata": {
        "id": "UPIohYCy_zO9"
      },
      "source": [
        "Workaround for server problem (run if you see `file DOWNLOAD HASH mismatch` when building OpenPose):"
      ]
    },
    {
      "cell_type": "code",
      "execution_count": null,
      "metadata": {
        "id": "PsJPv4SfZdxc"
      },
      "outputs": [],
      "source": [
        "!cp \"/content/drive/MyDrive/proB/models.zip\" /content"
      ]
    },
    {
      "cell_type": "code",
      "execution_count": null,
      "metadata": {
        "id": "bRRMCiq9_4UE"
      },
      "outputs": [],
      "source": [
        "#@title\n",
        "# Workaround for server connection problem (\"file DOWNLOAD HASH mismatch\"),see, e.g.,\n",
        "# https://github.com/CMU-Perceptual-Computing-Lab/openpose/issues/1602#issuecomment-641653411\n",
        "!apt-get install unzip\n",
        "\n",
        "# !wget -O models.zip  --no-check-certificate -r 'https://drive.google.com/uc?id=1QCSxJZpnWvM00hx49CJ2zky7PWGzpcEh&export=download'\n",
        "!unzip -o models.zip -d openpose"
      ]
    },
    {
      "cell_type": "code",
      "execution_count": null,
      "metadata": {
        "id": "unCEea_ig5On"
      },
      "outputs": [],
      "source": [
        "# use 'sed' to comment out the line in the OpenPose repo that downloads the model from the failed link\n",
        "! sed -i 's/executeShInItsFolder \"getModels.sh\"/# executeShInItsFolder \"getModels.sh\"/g' ./openpose/scripts/ubuntu/install_openpose_JetsonTX2_JetPack3.1.sh\n",
        "! sed -i 's/executeShInItsFolder \"getModels.sh\"/# executeShInItsFolder \"getModels.sh\"/g' ./openpose/scripts/ubuntu/install_openpose_JetsonTX2_JetPack3.3.sh\n",
        "! sed -i 's/download_model(\"BODY_25\"/# download_model(\"BODY_25\"/g' ./openpose/CMakeLists.txt\n",
        "! sed -i 's/78287B57CF85FA89C03F1393D368E5B7/# 78287B57CF85FA89C03F1393D368E5B7/g' ./openpose/CMakeLists.txt\n",
        "! sed -i 's/download_model(\"body (COCO)\"/# download_model(\"body (COCO)\"/g' ./openpose/CMakeLists.txt\n",
        "! sed -i 's/5156d31f670511fce9b4e28b403f2939/# 5156d31f670511fce9b4e28b403f2939/g' ./openpose/CMakeLists.txt\n",
        "! sed -i 's/download_model(\"body (MPI)\"/# download_model(\"body (MPI)\"/g' ./openpose/CMakeLists.txt\n",
        "! sed -i 's/2ca0990c7562bd7ae03f3f54afa96e00/# 2ca0990c7562bd7ae03f3f54afa96e00/g' ./openpose/CMakeLists.txt\n",
        "! sed -i 's/download_model(\"face\"/# download_model(\"face\"/g' ./openpose/CMakeLists.txt\n",
        "! sed -i 's/e747180d728fa4e4418c465828384333/# e747180d728fa4e4418c465828384333/g' ./openpose/CMakeLists.txt\n",
        "! sed -i 's/download_model(\"hand\"/# download_model(\"hand\"/g' ./openpose/CMakeLists.txt\n",
        "! sed -i 's/a82cfc3fea7c62f159e11bd3674c1531/# a82cfc3fea7c62f159e11bd3674c1531/g' ./openpose/CMakeLists.txt"
      ]
    },
    {
      "cell_type": "code",
      "execution_count": null,
      "metadata": {
        "id": "m7frkkv70-1t"
      },
      "outputs": [],
      "source": [
        "! ls -lha /usr/lib/x86_64-linux-gnu"
      ]
    },
    {
      "cell_type": "code",
      "execution_count": null,
      "metadata": {
        "id": "8wtSe6holfVW"
      },
      "outputs": [],
      "source": [
        "# build openpose\n",
        "# CUDA\n",
        "# !cd openpose && rm -rf build || true && mkdir build && cd build && cmake .. -DUSE_CUDNN=OFF && make -j`nproc`\n",
        "#!cd openpose && rm -rf build || true && mkdir build && cd build && cmake .. && make -j`nproc`\n",
        "# CPU\n",
        "# !cd openpose && rm -rf build || true && mkdir build && cd build && cmake -DGPU_MODE=CPU_ONLY -DUSE_MKL=OFF .. && cmake --build . --config Release && make -j`nproc`\n",
        "\n",
        "!cd openpose && rm -rf build || true && mkdir build"
      ]
    },
    {
      "cell_type": "code",
      "execution_count": null,
      "metadata": {
        "id": "OT0xZ6FrFbgZ"
      },
      "outputs": [],
      "source": [
        "cmake_file='/content/openpose/CMakeLists.txt'\n",
        "!cd openpose && sed -i 's/-DBUILD_python=OFF/-DBUILD_python=ON/g' $cmake_file\n",
        "!cd openpose && sed -i 's/-DBUILD_python_layer=OFF/-DBUILD_python_layer=ON/g' $cmake_file\n",
        "\n",
        "!cd openpose && sed -i 's/option(BUILD_PYTHON \"Build OpenPose python.\" OFF)/option(BUILD_PYTHON \"OpenPose python.\" ON)\\noption(BUILD_BIN_FOLDER \"Copy 3rd-party DLL files.\" ON)/g' $cmake_file"
      ]
    },
    {
      "cell_type": "code",
      "execution_count": null,
      "metadata": {
        "id": "hMX0TCqpFelq"
      },
      "outputs": [],
      "source": [
        "# CUDA\n",
        "!cd openpose && cd build && cmake .. -DUSE_CUDNN=OFF -DGENERATE_PYTHON_BINDINGS:BOOL=\"1\" -DPYTHON_LIBRARY='/usr/lib/x86_64-linux-gnu/libpython3.10.so' && make -j`nproc`\n",
        "\n",
        " # CPU\n",
        "# !cd openpose && cd build && cmake .. -DGPU_MODE=CPU_ONLY -DUSE_MKL=OFF -DGENERATE_PYTHON_BINDINGS:BOOL=\"1\" -DPYTHON_LIBRARY='/usr/lib/x86_64-linux-gnu/libpython3.10.so'\n",
        "# !cd openpose && cd build && make -j`nproc`"
      ]
    },
    {
      "cell_type": "markdown",
      "metadata": {
        "id": "FRoZL6lKhez1"
      },
      "source": [
        "## Try on YouTube video"
      ]
    },
    {
      "cell_type": "code",
      "execution_count": null,
      "metadata": {
        "id": "ZYHDCwNwR4dS"
      },
      "outputs": [],
      "source": [
        "from IPython.display import YouTubeVideo\n",
        "YOUTUBE_ID = 'yaMuEAARlsk'\n",
        "YouTubeVideo(YOUTUBE_ID)"
      ]
    },
    {
      "cell_type": "markdown",
      "metadata": {
        "id": "idc-uDEkR-_0"
      },
      "source": [
        "Download the above youtube video, cut and do the pose detection on that section:"
      ]
    },
    {
      "cell_type": "code",
      "execution_count": null,
      "metadata": {
        "id": "Q7lkYHF_b68f"
      },
      "outputs": [],
      "source": [
        "# ! sudo -H pip install --upgrade youtube-dl\n",
        "! pip install --upgrade --force-reinstall \"git+https://github.com/ytdl-org/youtube-dl.git\""
      ]
    },
    {
      "cell_type": "code",
      "execution_count": null,
      "metadata": {
        "id": "6N_C3i3vrex1"
      },
      "outputs": [],
      "source": [
        "!rm -rf youtube.mp4\n",
        "# download the youtube with the given ID\n",
        "!youtube-dl -f 'bestvideo[ext=mp4]' --output \"youtube.%(ext)s\" https://www.youtube.com/watch?v=$YOUTUBE_ID\n",
        "# cut the video\n",
        "!ffmpeg -y -loglevel info -i youtube.mp4 -ss 10 -t 7 video.mp4"
      ]
    },
    {
      "cell_type": "code",
      "execution_count": null,
      "metadata": {
        "id": "Y7ocH9RDR_vo"
      },
      "outputs": [],
      "source": [
        "# detect poses on the these 5 seconds\n",
        "!cd $OPENPOSE_PATH && rm ../openpose.avi\n",
        "!cd $OPENPOSE_PATH && chmod -R 755 './build/'\n",
        "!cd $OPENPOSE_PATH && ./build/examples/openpose/openpose.bin --video ../video.mp4 --write_json ./output/ --display 0  --write_video ../openpose.avi --face\n",
        "# convert the result into MP4\n",
        "!ffmpeg -y -loglevel info -i openpose.avi output.mp4"
      ]
    },
    {
      "cell_type": "markdown",
      "metadata": {
        "id": "kRl_tYFZSDSv"
      },
      "source": [
        "\n",
        "Finally, visualize the result:"
      ]
    },
    {
      "cell_type": "code",
      "execution_count": null,
      "metadata": {
        "id": "8FrnHD_4SC9Y"
      },
      "outputs": [],
      "source": [
        "def show_local_mp4_video(file_name, width=640, height=480):\n",
        "  import io\n",
        "  import base64\n",
        "  from IPython.display import HTML\n",
        "  video_encoded = base64.b64encode(io.open(file_name, 'rb').read())\n",
        "  return HTML(data='''<video width=\"{0}\" height=\"{1}\" alt=\"test\" controls>\n",
        "                        <source src=\"data:video/mp4;base64,{2}\" type=\"video/mp4\" />\n",
        "                      </video>'''.format(width, height, video_encoded.decode('ascii')))\n",
        "\n",
        "show_local_mp4_video('output.mp4', width=960, height=720)"
      ]
    },
    {
      "cell_type": "markdown",
      "source": [
        "\n",
        "## Download the detected video"
      ],
      "metadata": {
        "id": "Qd-Ak033wI6p"
      }
    },
    {
      "cell_type": "code",
      "execution_count": null,
      "metadata": {
        "id": "pGuwIH9PaF2d"
      },
      "outputs": [],
      "source": [
        "# ダウンロードしたいフォルダを zip 圧縮する\n",
        "!zip -r /content/keypoints.zip /content/openpose/output"
      ]
    },
    {
      "cell_type": "code",
      "execution_count": null,
      "metadata": {
        "id": "LzEquKjnaWJl"
      },
      "outputs": [],
      "source": [
        "# 圧縮した zip ファイルをダウンロードする\n",
        "from google.colab import files\n",
        "files.download(\"/content/keypoints.zip\")"
      ]
    }
  ],
  "metadata": {
    "accelerator": "GPU",
    "colab": {
      "provenance": [],
      "gpuType": "T4",
      "include_colab_link": true
    },
    "kernelspec": {
      "display_name": "Python 3",
      "name": "python3"
    },
    "language_info": {
      "codemirror_mode": {
        "name": "ipython",
        "version": 3
      },
      "file_extension": ".py",
      "mimetype": "text/x-python",
      "name": "python",
      "nbconvert_exporter": "python",
      "pygments_lexer": "ipython3",
      "version": "3.8.9 (default, Oct 26 2021, 07:25:53) \n[Clang 13.0.0 (clang-1300.0.29.30)]"
    },
    "vscode": {
      "interpreter": {
        "hash": "31f2aee4e71d21fbe5cf8b01ff0e069b9275f58929596ceb00d14d90e3e16cd6"
      }
    }
  },
  "nbformat": 4,
  "nbformat_minor": 0
}