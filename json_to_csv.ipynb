{
  "nbformat": 4,
  "nbformat_minor": 0,
  "metadata": {
    "colab": {
      "provenance": [],
      "authorship_tag": "ABX9TyNEgjSDEvvzgoF4UOwRwjNU",
      "include_colab_link": true
    },
    "kernelspec": {
      "name": "python3",
      "display_name": "Python 3"
    },
    "language_info": {
      "name": "python"
    }
  },
  "cells": [
    {
      "cell_type": "markdown",
      "metadata": {
        "id": "view-in-github",
        "colab_type": "text"
      },
      "source": [
        "<a href=\"https://colab.research.google.com/github/qwert-top/NMM-recognition-with-OpenPose/blob/main/json_to_csv.ipynb\" target=\"_parent\"><img src=\"https://colab.research.google.com/assets/colab-badge.svg\" alt=\"Open In Colab\"/></a>"
      ]
    },
    {
      "cell_type": "code",
      "source": [
        "import json\n",
        "import pandas as pd\n",
        "import numpy as np\n",
        "import glob\n",
        "import sys"
      ],
      "metadata": {
        "id": "MqitLS9rDhRN"
      },
      "execution_count": null,
      "outputs": []
    },
    {
      "cell_type": "code",
      "source": [
        "fP = 0.5    #確度のデフォルト値"
      ],
      "metadata": {
        "id": "j3rJYsPZDhHd"
      },
      "execution_count": null,
      "outputs": []
    },
    {
      "cell_type": "code",
      "source": [
        "from google.colab import drive\n",
        "drive.mount('/content/drive')"
      ],
      "metadata": {
        "id": "OGHnF3WrDg6i"
      },
      "execution_count": null,
      "outputs": []
    },
    {
      "cell_type": "code",
      "source": [
        "InputPath = \"/content/drive/MyDrive/proB/何が食べたいですか？/output\"\n",
        "OutputPath = \"/content/drive/MyDrive/proB/何が食べたいですか？\""
      ],
      "metadata": {
        "id": "kaNGaB4VD6S1"
      },
      "execution_count": null,
      "outputs": []
    },
    {
      "cell_type": "code",
      "source": [
        "json_list = glob.glob(InputPath + \"/*.json\")\n",
        "ilenlist = len(json_list)"
      ],
      "metadata": {
        "id": "MTl3LqLHEZze"
      },
      "execution_count": null,
      "outputs": []
    },
    {
      "cell_type": "code",
      "source": [
        "#各点の名前を指定\n",
        "#各点の名前を指定\n",
        "cols = []\n",
        "for i in range(210):\n",
        "  if (i%3 == 0):\n",
        "    ans = int(i/3)\n",
        "    cols.append(\"{ans}_x\".format(ans=ans))\n",
        "  elif (i%3 == 1):\n",
        "    ans = int((i-1)/3)\n",
        "    cols.append(\"{ans}_y\".format(ans=ans))\n",
        "  elif (i%3 == 2):\n",
        "    ans = int((i-2)/3)\n",
        "    cols.append(\"P{ans}\".format(ans=ans))\n",
        "\n",
        "print(cols)\n",
        "dfsum = pd.DataFrame(index=[],columns=cols)"
      ],
      "metadata": {
        "id": "t0KocsrsEf6Z"
      },
      "execution_count": null,
      "outputs": []
    },
    {
      "cell_type": "code",
      "source": [
        "#face_keypointsのjsonファイルを読み込んで結合する\n",
        "for i,file in enumerate(json_list):\n",
        "  with open(file) as f:\n",
        "    data = json.load(f)\n",
        "    data = np.array(data['people'][0]['face_keypoints_2d']).reshape(-1,210)\n",
        "    # 3成分(X,Y,P)×25マーカ\n",
        "  df = pd.DataFrame(data,columns=cols)\n",
        "  #「確度」の値によって、XYの値をNULLにする\n",
        "  for num in range(2, 210, 3):\n",
        "    if df.iat[0,num]<fP:\n",
        "      df.iat[0,num-1]=np.nan\n",
        "      df.iat[0,num-2]=np.nan\n",
        "   #結合\n",
        "  dfsum = dfsum.append(df, ignore_index=True)\n",
        "  #進捗バー\n",
        "  dPercent = (i+1)/ilenlist*100\n",
        "  print(\"\\r{0}% [{1}]\".format(int(dPercent), \"#\" * int(dPercent)), end=\"\")\n",
        "\n",
        "#出力する\n",
        "dfsum.to_csv(OutputPath + '/face_out.csv')\n"
      ],
      "metadata": {
        "id": "BFfwA10LEpFa"
      },
      "execution_count": null,
      "outputs": []
    }
  ]
}